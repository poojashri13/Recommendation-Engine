{
 "cells": [],
 "metadata": {},
 "nbformat": 4,
 "nbformat_minor": 2
}

wml_credentials{
 "instance_id": "efe28075-ac91-4ddd-bc49-7ab3476a4261",
  "password": "dc7b7008-e7a2-4c3e-9a12-adfef27d60b1",
  "url": "https://eu-gb.ml.cloud.ibm.com",
  "username": "07e02962-bff7-4eb9-985a-147289dcb16e"
}
